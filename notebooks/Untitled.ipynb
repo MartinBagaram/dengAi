{
 "cells": [
  {
   "cell_type": "code",
   "execution_count": 1,
   "metadata": {},
   "outputs": [],
   "source": [
    "# from sklearn. import IterativeImputer\n"
   ]
  },
  {
   "cell_type": "code",
   "execution_count": 67,
   "metadata": {},
   "outputs": [],
   "source": [
    "import os\n",
    "\n",
    "import pandas as pd\n",
    "import numpy as np\n",
    "import lightgbm as lgb\n",
    "import seaborn as sns\n",
    "from datetime import timedelta\n",
    "# from sklearn.experimental import enable_iterative_imputer\n",
    "from sklearn.impute import SimpleImputer\n",
    "from sklearn.impute import KNNImputer\n",
    "from numpy.linalg import svd\n",
    "import matplotlib.pyplot as plt\n",
    "\n",
    "from sklearn.model_selection import train_test_split\n",
    "from sklearn.preprocessing import MinMaxScaler\n",
    "from sklearn.metrics import r2_score, mean_absolute_error, mean_squared_error"
   ]
  },
  {
   "cell_type": "code",
   "execution_count": 3,
   "metadata": {},
   "outputs": [],
   "source": [
    "input_folder = '../data/input/'\n",
    "data = pd.read_csv(os.path.join(input_folder, 'dengue_features_train.csv'))\n",
    "labels = pd.read_csv(os.path.join(input_folder, 'dengue_labels_train.csv'))"
   ]
  },
  {
   "cell_type": "code",
   "execution_count": 4,
   "metadata": {},
   "outputs": [],
   "source": [
    "# features.head()"
   ]
  },
  {
   "cell_type": "code",
   "execution_count": 5,
   "metadata": {},
   "outputs": [],
   "source": [
    "# impute the missing values using KNN\n",
    "imputer = KNNImputer(n_neighbors=3, weights=\"uniform\")\n",
    "features = imputer.fit_transform(data[data.columns[4:]])\n",
    "features = pd.DataFrame(features, columns=data.columns[4:])\n"
   ]
  },
  {
   "cell_type": "code",
   "execution_count": 6,
   "metadata": {},
   "outputs": [],
   "source": [
    "data = data.astype({'week_start_date': 'datetime64[ns]'}, copy=False)"
   ]
  },
  {
   "cell_type": "code",
   "execution_count": 7,
   "metadata": {},
   "outputs": [],
   "source": [
    "columns_to_com = features.columns.tolist()\n",
    "prefix = 'weekbefore_'"
   ]
  },
  {
   "cell_type": "code",
   "execution_count": 8,
   "metadata": {},
   "outputs": [],
   "source": [
    "for col in columns_to_com:\n",
    "    for i in features.index:\n",
    "        if i > 0 and data.loc[i, 'city'] == data.loc[i-1, 'city']:\n",
    "            features.loc[i, prefix+col] = features.loc[i-1, col]"
   ]
  },
  {
   "cell_type": "code",
   "execution_count": 9,
   "metadata": {},
   "outputs": [],
   "source": [
    "prefix = 'week2_'\n",
    "for col in columns_to_com:\n",
    "    for i in features.index:\n",
    "        if i > 1 and data.loc[i, 'city'] == data.loc[i-2, 'city']:\n",
    "            features.loc[i, prefix+col] = features.loc[i-2, col]"
   ]
  },
  {
   "cell_type": "code",
   "execution_count": 10,
   "metadata": {},
   "outputs": [],
   "source": [
    "prefix = 'week3_'\n",
    "for col in columns_to_com:\n",
    "    for i in features.index:\n",
    "        if i > 2 and data.loc[i, 'city'] == data.loc[i-3, 'city']:\n",
    "            features.loc[i, prefix+col] = features.loc[i-3, col]"
   ]
  },
  {
   "cell_type": "code",
   "execution_count": 11,
   "metadata": {},
   "outputs": [],
   "source": [
    "prefix = 'week4_'\n",
    "for col in columns_to_com:\n",
    "    for i in features.index:\n",
    "        if i > 3 and data.loc[i, 'city'] == data.loc[i-4, 'city']:\n",
    "            features.loc[i, prefix+col] = features.loc[i-4, col]"
   ]
  },
  {
   "cell_type": "code",
   "execution_count": 12,
   "metadata": {},
   "outputs": [],
   "source": [
    "f = imputer.fit_transform(features)\n",
    "features = pd.DataFrame(f, columns=features.columns)\n",
    "data = data[data.columns[:4]].join(features, how='inner')"
   ]
  },
  {
   "cell_type": "code",
   "execution_count": 13,
   "metadata": {},
   "outputs": [
    {
     "data": {
      "text/html": [
       "<div>\n",
       "<style scoped>\n",
       "    .dataframe tbody tr th:only-of-type {\n",
       "        vertical-align: middle;\n",
       "    }\n",
       "\n",
       "    .dataframe tbody tr th {\n",
       "        vertical-align: top;\n",
       "    }\n",
       "\n",
       "    .dataframe thead th {\n",
       "        text-align: right;\n",
       "    }\n",
       "</style>\n",
       "<table border=\"1\" class=\"dataframe\">\n",
       "  <thead>\n",
       "    <tr style=\"text-align: right;\">\n",
       "      <th></th>\n",
       "      <th>city</th>\n",
       "      <th>year</th>\n",
       "      <th>weekofyear</th>\n",
       "      <th>week_start_date</th>\n",
       "      <th>ndvi_ne</th>\n",
       "      <th>ndvi_nw</th>\n",
       "      <th>ndvi_se</th>\n",
       "      <th>ndvi_sw</th>\n",
       "      <th>precipitation_amt_mm</th>\n",
       "      <th>reanalysis_air_temp_k</th>\n",
       "      <th>...</th>\n",
       "      <th>week4_reanalysis_precip_amt_kg_per_m2</th>\n",
       "      <th>week4_reanalysis_relative_humidity_percent</th>\n",
       "      <th>week4_reanalysis_sat_precip_amt_mm</th>\n",
       "      <th>week4_reanalysis_specific_humidity_g_per_kg</th>\n",
       "      <th>week4_reanalysis_tdtr_k</th>\n",
       "      <th>week4_station_avg_temp_c</th>\n",
       "      <th>week4_station_diur_temp_rng_c</th>\n",
       "      <th>week4_station_max_temp_c</th>\n",
       "      <th>week4_station_min_temp_c</th>\n",
       "      <th>week4_station_precip_mm</th>\n",
       "    </tr>\n",
       "  </thead>\n",
       "  <tbody>\n",
       "    <tr>\n",
       "      <th>1451</th>\n",
       "      <td>iq</td>\n",
       "      <td>2010</td>\n",
       "      <td>21</td>\n",
       "      <td>2010-05-28</td>\n",
       "      <td>0.342750</td>\n",
       "      <td>0.318900</td>\n",
       "      <td>0.256343</td>\n",
       "      <td>0.292514</td>\n",
       "      <td>55.30</td>\n",
       "      <td>299.334286</td>\n",
       "      <td>...</td>\n",
       "      <td>23.60</td>\n",
       "      <td>87.657143</td>\n",
       "      <td>26.00</td>\n",
       "      <td>18.068571</td>\n",
       "      <td>8.257143</td>\n",
       "      <td>28.850000</td>\n",
       "      <td>12.125000</td>\n",
       "      <td>36.2</td>\n",
       "      <td>21.4</td>\n",
       "      <td>35.4</td>\n",
       "    </tr>\n",
       "    <tr>\n",
       "      <th>1452</th>\n",
       "      <td>iq</td>\n",
       "      <td>2010</td>\n",
       "      <td>22</td>\n",
       "      <td>2010-06-04</td>\n",
       "      <td>0.160157</td>\n",
       "      <td>0.160371</td>\n",
       "      <td>0.136043</td>\n",
       "      <td>0.225657</td>\n",
       "      <td>86.47</td>\n",
       "      <td>298.330000</td>\n",
       "      <td>...</td>\n",
       "      <td>85.46</td>\n",
       "      <td>96.712857</td>\n",
       "      <td>73.97</td>\n",
       "      <td>18.602857</td>\n",
       "      <td>5.714286</td>\n",
       "      <td>27.600000</td>\n",
       "      <td>9.600000</td>\n",
       "      <td>33.2</td>\n",
       "      <td>21.4</td>\n",
       "      <td>8.1</td>\n",
       "    </tr>\n",
       "    <tr>\n",
       "      <th>1453</th>\n",
       "      <td>iq</td>\n",
       "      <td>2010</td>\n",
       "      <td>23</td>\n",
       "      <td>2010-06-11</td>\n",
       "      <td>0.247057</td>\n",
       "      <td>0.146057</td>\n",
       "      <td>0.250357</td>\n",
       "      <td>0.233714</td>\n",
       "      <td>58.94</td>\n",
       "      <td>296.598571</td>\n",
       "      <td>...</td>\n",
       "      <td>87.30</td>\n",
       "      <td>97.445714</td>\n",
       "      <td>59.40</td>\n",
       "      <td>18.391429</td>\n",
       "      <td>6.185714</td>\n",
       "      <td>27.400000</td>\n",
       "      <td>10.400000</td>\n",
       "      <td>33.7</td>\n",
       "      <td>21.2</td>\n",
       "      <td>32.0</td>\n",
       "    </tr>\n",
       "    <tr>\n",
       "      <th>1454</th>\n",
       "      <td>iq</td>\n",
       "      <td>2010</td>\n",
       "      <td>24</td>\n",
       "      <td>2010-06-18</td>\n",
       "      <td>0.333914</td>\n",
       "      <td>0.245771</td>\n",
       "      <td>0.278886</td>\n",
       "      <td>0.325486</td>\n",
       "      <td>59.67</td>\n",
       "      <td>296.345714</td>\n",
       "      <td>...</td>\n",
       "      <td>8.80</td>\n",
       "      <td>78.998571</td>\n",
       "      <td>1.15</td>\n",
       "      <td>14.908571</td>\n",
       "      <td>11.242857</td>\n",
       "      <td>25.633333</td>\n",
       "      <td>9.200000</td>\n",
       "      <td>34.0</td>\n",
       "      <td>20.0</td>\n",
       "      <td>2.5</td>\n",
       "    </tr>\n",
       "    <tr>\n",
       "      <th>1455</th>\n",
       "      <td>iq</td>\n",
       "      <td>2010</td>\n",
       "      <td>25</td>\n",
       "      <td>2010-06-25</td>\n",
       "      <td>0.298186</td>\n",
       "      <td>0.232971</td>\n",
       "      <td>0.274214</td>\n",
       "      <td>0.315757</td>\n",
       "      <td>63.22</td>\n",
       "      <td>298.097143</td>\n",
       "      <td>...</td>\n",
       "      <td>45.00</td>\n",
       "      <td>88.765714</td>\n",
       "      <td>55.30</td>\n",
       "      <td>18.485714</td>\n",
       "      <td>9.800000</td>\n",
       "      <td>28.633333</td>\n",
       "      <td>11.933333</td>\n",
       "      <td>35.4</td>\n",
       "      <td>22.4</td>\n",
       "      <td>27.0</td>\n",
       "    </tr>\n",
       "  </tbody>\n",
       "</table>\n",
       "<p>5 rows × 104 columns</p>\n",
       "</div>"
      ],
      "text/plain": [
       "     city  year  weekofyear week_start_date   ndvi_ne   ndvi_nw   ndvi_se  \\\n",
       "1451   iq  2010          21      2010-05-28  0.342750  0.318900  0.256343   \n",
       "1452   iq  2010          22      2010-06-04  0.160157  0.160371  0.136043   \n",
       "1453   iq  2010          23      2010-06-11  0.247057  0.146057  0.250357   \n",
       "1454   iq  2010          24      2010-06-18  0.333914  0.245771  0.278886   \n",
       "1455   iq  2010          25      2010-06-25  0.298186  0.232971  0.274214   \n",
       "\n",
       "       ndvi_sw  precipitation_amt_mm  reanalysis_air_temp_k  \\\n",
       "1451  0.292514                 55.30             299.334286   \n",
       "1452  0.225657                 86.47             298.330000   \n",
       "1453  0.233714                 58.94             296.598571   \n",
       "1454  0.325486                 59.67             296.345714   \n",
       "1455  0.315757                 63.22             298.097143   \n",
       "\n",
       "               ...             week4_reanalysis_precip_amt_kg_per_m2  \\\n",
       "1451           ...                                             23.60   \n",
       "1452           ...                                             85.46   \n",
       "1453           ...                                             87.30   \n",
       "1454           ...                                              8.80   \n",
       "1455           ...                                             45.00   \n",
       "\n",
       "      week4_reanalysis_relative_humidity_percent  \\\n",
       "1451                                   87.657143   \n",
       "1452                                   96.712857   \n",
       "1453                                   97.445714   \n",
       "1454                                   78.998571   \n",
       "1455                                   88.765714   \n",
       "\n",
       "      week4_reanalysis_sat_precip_amt_mm  \\\n",
       "1451                               26.00   \n",
       "1452                               73.97   \n",
       "1453                               59.40   \n",
       "1454                                1.15   \n",
       "1455                               55.30   \n",
       "\n",
       "      week4_reanalysis_specific_humidity_g_per_kg  week4_reanalysis_tdtr_k  \\\n",
       "1451                                    18.068571                 8.257143   \n",
       "1452                                    18.602857                 5.714286   \n",
       "1453                                    18.391429                 6.185714   \n",
       "1454                                    14.908571                11.242857   \n",
       "1455                                    18.485714                 9.800000   \n",
       "\n",
       "      week4_station_avg_temp_c  week4_station_diur_temp_rng_c  \\\n",
       "1451                 28.850000                      12.125000   \n",
       "1452                 27.600000                       9.600000   \n",
       "1453                 27.400000                      10.400000   \n",
       "1454                 25.633333                       9.200000   \n",
       "1455                 28.633333                      11.933333   \n",
       "\n",
       "      week4_station_max_temp_c  week4_station_min_temp_c  \\\n",
       "1451                      36.2                      21.4   \n",
       "1452                      33.2                      21.4   \n",
       "1453                      33.7                      21.2   \n",
       "1454                      34.0                      20.0   \n",
       "1455                      35.4                      22.4   \n",
       "\n",
       "      week4_station_precip_mm  \n",
       "1451                     35.4  \n",
       "1452                      8.1  \n",
       "1453                     32.0  \n",
       "1454                      2.5  \n",
       "1455                     27.0  \n",
       "\n",
       "[5 rows x 104 columns]"
      ]
     },
     "execution_count": 13,
     "metadata": {},
     "output_type": "execute_result"
    }
   ],
   "source": [
    "data.tail()"
   ]
  },
  {
   "cell_type": "code",
   "execution_count": 14,
   "metadata": {},
   "outputs": [],
   "source": [
    "data['week_start_date'] = data.week_start_date.values.astype('float64') // 10**9\n",
    "scaler = MinMaxScaler()\n",
    "col_to_norm = [col for col in data.columns if data[col].dtypes == np.float64]\n",
    "norm = scaler.fit_transform(data[col_to_norm])\n",
    "data[col_to_norm] = norm"
   ]
  },
  {
   "cell_type": "code",
   "execution_count": 15,
   "metadata": {},
   "outputs": [],
   "source": [
    "features = data[data.columns[3:]]\n",
    "u, s, v = svd(features.values, full_matrices=False)"
   ]
  },
  {
   "cell_type": "code",
   "execution_count": 37,
   "metadata": {},
   "outputs": [
    {
     "data": {
      "image/png": "[encoded data removed]",
      "text/plain": [
       "<Figure size 432x288 with 1 Axes>"
      ]
     },
     "metadata": {
      "needs_background": "light"
     },
     "output_type": "display_data"
    }
   ],
   "source": [
    "plt.plot(np.cumsum(s)/np.sum(s))\n",
    "plt.xlabel('number of components', fontsize=14)\n",
    "plt.ylabel('% of variance explained', fontsize=14)\n",
    "plt.title('Cumulative variance explained \\nby number of components', fontsize=14)\n",
    "plt.savefig(\"../data/output/pca.png\")\n"
   ]
  },
  {
   "cell_type": "code",
   "execution_count": 17,
   "metadata": {},
   "outputs": [
    {
     "data": {
      "text/plain": [
       "0.9788881384278572"
      ]
     },
     "execution_count": 17,
     "metadata": {},
     "output_type": "execute_result"
    }
   ],
   "source": [
    "ncomp = 75\n",
    "(np.cumsum(s)/np.sum(s))[ncomp]"
   ]
  },
  {
   "cell_type": "code",
   "execution_count": 18,
   "metadata": {},
   "outputs": [],
   "source": [
    "v = v.T\n",
    "features_hat = np.dot(features, v[:, :ncomp])"
   ]
  },
  {
   "cell_type": "code",
   "execution_count": 19,
   "metadata": {},
   "outputs": [],
   "source": [
    "features_hat = pd.DataFrame(features_hat, columns=['com'+str(i+1) for i in range(features_hat.shape[1])])\n",
    "data = data[data.columns[:3]].join(features_hat, how='inner')"
   ]
  },
  {
   "cell_type": "code",
   "execution_count": 20,
   "metadata": {},
   "outputs": [],
   "source": [
    "data = data.astype({'city': 'category', 'year': 'category', 'weekofyear': 'category'}, copy=False) \n",
    "labels = labels.astype({'city': 'category', 'year': 'category', 'weekofyear': 'category'}, copy=False) "
   ]
  },
  {
   "cell_type": "code",
   "execution_count": 21,
   "metadata": {},
   "outputs": [],
   "source": [
    "X_train, X_val, y_train, y_val = train_test_split(data, labels['total_cases'], test_size=0.2, random_state=42)\n",
    "X_train, X_test, y_train, y_test = train_test_split(X_train, y_train, test_size=0.2, random_state=42)"
   ]
  },
  {
   "cell_type": "code",
   "execution_count": 22,
   "metadata": {},
   "outputs": [],
   "source": [
    "\n",
    "lgb_train = lgb.Dataset(X_train, y_train, \n",
    "                        feature_name = list(X_train.columns), \n",
    "                        categorical_feature = ['city', 'weekofyear', 'year']\n",
    ")\n",
    "lgb_val = lgb.Dataset(X_val, y_val, \n",
    "                        feature_name = list(X_val.columns), \n",
    "                        categorical_feature =  ['city', 'weekofyear', 'year'] #['year', 'weekofyear', 'week_start_date']\n",
    ")"
   ]
  },
  {
   "cell_type": "code",
   "execution_count": null,
   "metadata": {},
   "outputs": [],
   "source": []
  },
  {
   "cell_type": "code",
   "execution_count": 23,
   "metadata": {},
   "outputs": [
    {
     "name": "stderr",
     "output_type": "stream",
     "text": [
      "C:\\Users\\Martins\\Anaconda3\\lib\\site-packages\\lightgbm\\engine.py:113: UserWarning: Found `n_estimators` in params. Will use it instead of argument\n",
      "  warnings.warn(\"Found `{}` in params. Will use it instead of argument\".format(alias))\n",
      "C:\\Users\\Martins\\Anaconda3\\lib\\site-packages\\lightgbm\\basic.py:1184: UserWarning: Using categorical_feature in Dataset.\n",
      "  warnings.warn('Using categorical_feature in Dataset.')\n",
      "C:\\Users\\Martins\\Anaconda3\\lib\\site-packages\\lightgbm\\basic.py:742: UserWarning: categorical_feature in param dict is overridden.\n",
      "  warnings.warn('categorical_feature in param dict is overridden.')\n"
     ]
    }
   ],
   "source": [
    "params = {\n",
    " 'task': 'train',\n",
    "  'boosting_type': 'gbdt',\n",
    "  'min_chile_samples': 5,\n",
    "  'num_leaves': 31,\n",
    "  'n_estimators': 200,\n",
    "  'objective': 'regression', # if is_regression == True else 'multiclass',\n",
    "  'metric': 'rmsle', #'rmsle', # if is_regression == True else 'multi_logloss',\n",
    "  'min_data': 1,\n",
    "  'verbose': -1\n",
    "}\n",
    " \n",
    "gbm = lgb.train(params, lgb_train, num_boost_round=100, valid_sets=[lgb_val, lgb_train], valid_names=['eval', 'train'])"
   ]
  },
  {
   "cell_type": "code",
   "execution_count": 68,
   "metadata": {},
   "outputs": [
    {
     "name": "stdout",
     "output_type": "stream",
     "text": [
      "R2 score = 0.24689566911508343,  MAE = 10.509728976712319,  RMSE = 21.058612893510723\n"
     ]
    }
   ],
   "source": [
    "predictions = gbm.predict(X_test)\n",
    "mae = mean_absolute_error(predictions, y_test)\n",
    "r2 = r2_score(predictions, y_test)\n",
    "rmse = np.sqrt(mean_squared_error(predictions, y_test))\n",
    "print(f'R2 score = {r2},  MAE = {mae},  RMSE = {rmse}')"
   ]
  },
  {
   "cell_type": "code",
   "execution_count": 25,
   "metadata": {},
   "outputs": [
    {
     "data": {
      "text/html": [
       "<div>\n",
       "<style scoped>\n",
       "    .dataframe tbody tr th:only-of-type {\n",
       "        vertical-align: middle;\n",
       "    }\n",
       "\n",
       "    .dataframe tbody tr th {\n",
       "        vertical-align: top;\n",
       "    }\n",
       "\n",
       "    .dataframe thead th {\n",
       "        text-align: right;\n",
       "    }\n",
       "</style>\n",
       "<table border=\"1\" class=\"dataframe\">\n",
       "  <thead>\n",
       "    <tr style=\"text-align: right;\">\n",
       "      <th></th>\n",
       "      <th>city</th>\n",
       "      <th>year</th>\n",
       "      <th>weekofyear</th>\n",
       "      <th>total_cases</th>\n",
       "    </tr>\n",
       "  </thead>\n",
       "  <tbody>\n",
       "    <tr>\n",
       "      <th>0</th>\n",
       "      <td>sj</td>\n",
       "      <td>2008</td>\n",
       "      <td>18</td>\n",
       "      <td>0</td>\n",
       "    </tr>\n",
       "    <tr>\n",
       "      <th>1</th>\n",
       "      <td>sj</td>\n",
       "      <td>2008</td>\n",
       "      <td>19</td>\n",
       "      <td>0</td>\n",
       "    </tr>\n",
       "    <tr>\n",
       "      <th>2</th>\n",
       "      <td>sj</td>\n",
       "      <td>2008</td>\n",
       "      <td>20</td>\n",
       "      <td>0</td>\n",
       "    </tr>\n",
       "    <tr>\n",
       "      <th>3</th>\n",
       "      <td>sj</td>\n",
       "      <td>2008</td>\n",
       "      <td>21</td>\n",
       "      <td>0</td>\n",
       "    </tr>\n",
       "    <tr>\n",
       "      <th>4</th>\n",
       "      <td>sj</td>\n",
       "      <td>2008</td>\n",
       "      <td>22</td>\n",
       "      <td>0</td>\n",
       "    </tr>\n",
       "  </tbody>\n",
       "</table>\n",
       "</div>"
      ],
      "text/plain": [
       "  city  year  weekofyear  total_cases\n",
       "0   sj  2008          18            0\n",
       "1   sj  2008          19            0\n",
       "2   sj  2008          20            0\n",
       "3   sj  2008          21            0\n",
       "4   sj  2008          22            0"
      ]
     },
     "execution_count": 25,
     "metadata": {},
     "output_type": "execute_result"
    }
   ],
   "source": [
    "submission = pd.read_csv(os.path.join(input_folder, 'submission_format.csv'))\n",
    "submission.head()"
   ]
  },
  {
   "cell_type": "code",
   "execution_count": 26,
   "metadata": {},
   "outputs": [
    {
     "name": "stdout",
     "output_type": "stream",
     "text": [
      "city             sj\n",
      "year           2008\n",
      "weekofyear       18\n",
      "total_cases       0\n",
      "Name: 0, dtype: object\n"
     ]
    }
   ],
   "source": [
    "for i, row in submission.iterrows():\n",
    "    print(row)\n",
    "    break"
   ]
  },
  {
   "cell_type": "code",
   "execution_count": 27,
   "metadata": {},
   "outputs": [
    {
     "data": {
      "text/html": [
       "<div>\n",
       "<style scoped>\n",
       "    .dataframe tbody tr th:only-of-type {\n",
       "        vertical-align: middle;\n",
       "    }\n",
       "\n",
       "    .dataframe tbody tr th {\n",
       "        vertical-align: top;\n",
       "    }\n",
       "\n",
       "    .dataframe thead th {\n",
       "        text-align: right;\n",
       "    }\n",
       "</style>\n",
       "<table border=\"1\" class=\"dataframe\">\n",
       "  <thead>\n",
       "    <tr style=\"text-align: right;\">\n",
       "      <th></th>\n",
       "      <th>city</th>\n",
       "      <th>year</th>\n",
       "      <th>weekofyear</th>\n",
       "      <th>com1</th>\n",
       "      <th>com2</th>\n",
       "      <th>com3</th>\n",
       "      <th>com4</th>\n",
       "      <th>com5</th>\n",
       "      <th>com6</th>\n",
       "      <th>com7</th>\n",
       "      <th>...</th>\n",
       "      <th>com66</th>\n",
       "      <th>com67</th>\n",
       "      <th>com68</th>\n",
       "      <th>com69</th>\n",
       "      <th>com70</th>\n",
       "      <th>com71</th>\n",
       "      <th>com72</th>\n",
       "      <th>com73</th>\n",
       "      <th>com74</th>\n",
       "      <th>com75</th>\n",
       "    </tr>\n",
       "  </thead>\n",
       "  <tbody>\n",
       "    <tr>\n",
       "      <th>0</th>\n",
       "      <td>sj</td>\n",
       "      <td>1990</td>\n",
       "      <td>18</td>\n",
       "      <td>-4.191085</td>\n",
       "      <td>0.705030</td>\n",
       "      <td>-0.434319</td>\n",
       "      <td>0.021242</td>\n",
       "      <td>0.186170</td>\n",
       "      <td>0.171262</td>\n",
       "      <td>-0.559197</td>\n",
       "      <td>...</td>\n",
       "      <td>-0.017178</td>\n",
       "      <td>0.011100</td>\n",
       "      <td>0.062521</td>\n",
       "      <td>-0.015646</td>\n",
       "      <td>-0.029909</td>\n",
       "      <td>-0.007733</td>\n",
       "      <td>-0.000768</td>\n",
       "      <td>0.007111</td>\n",
       "      <td>-0.000409</td>\n",
       "      <td>-0.020582</td>\n",
       "    </tr>\n",
       "    <tr>\n",
       "      <th>1</th>\n",
       "      <td>sj</td>\n",
       "      <td>1990</td>\n",
       "      <td>19</td>\n",
       "      <td>-4.039240</td>\n",
       "      <td>0.555688</td>\n",
       "      <td>-0.440043</td>\n",
       "      <td>0.151095</td>\n",
       "      <td>0.274502</td>\n",
       "      <td>0.101275</td>\n",
       "      <td>-0.337240</td>\n",
       "      <td>...</td>\n",
       "      <td>0.026754</td>\n",
       "      <td>0.011039</td>\n",
       "      <td>0.037746</td>\n",
       "      <td>-0.041645</td>\n",
       "      <td>-0.047391</td>\n",
       "      <td>0.001129</td>\n",
       "      <td>0.012737</td>\n",
       "      <td>0.023060</td>\n",
       "      <td>-0.019162</td>\n",
       "      <td>-0.016492</td>\n",
       "    </tr>\n",
       "    <tr>\n",
       "      <th>2</th>\n",
       "      <td>sj</td>\n",
       "      <td>1990</td>\n",
       "      <td>20</td>\n",
       "      <td>-4.199797</td>\n",
       "      <td>0.545794</td>\n",
       "      <td>-0.566129</td>\n",
       "      <td>0.079934</td>\n",
       "      <td>0.371858</td>\n",
       "      <td>0.025634</td>\n",
       "      <td>-0.087709</td>\n",
       "      <td>...</td>\n",
       "      <td>-0.025915</td>\n",
       "      <td>-0.048276</td>\n",
       "      <td>0.020435</td>\n",
       "      <td>0.011677</td>\n",
       "      <td>-0.033204</td>\n",
       "      <td>0.024580</td>\n",
       "      <td>0.005577</td>\n",
       "      <td>-0.018649</td>\n",
       "      <td>0.015556</td>\n",
       "      <td>0.032187</td>\n",
       "    </tr>\n",
       "    <tr>\n",
       "      <th>3</th>\n",
       "      <td>sj</td>\n",
       "      <td>1990</td>\n",
       "      <td>21</td>\n",
       "      <td>-4.302306</td>\n",
       "      <td>0.556289</td>\n",
       "      <td>-0.498080</td>\n",
       "      <td>0.171292</td>\n",
       "      <td>0.454469</td>\n",
       "      <td>-0.005096</td>\n",
       "      <td>0.146922</td>\n",
       "      <td>...</td>\n",
       "      <td>-0.023314</td>\n",
       "      <td>0.055135</td>\n",
       "      <td>0.016587</td>\n",
       "      <td>0.019169</td>\n",
       "      <td>-0.035454</td>\n",
       "      <td>-0.006036</td>\n",
       "      <td>-0.038947</td>\n",
       "      <td>-0.032721</td>\n",
       "      <td>-0.001041</td>\n",
       "      <td>0.022893</td>\n",
       "    </tr>\n",
       "    <tr>\n",
       "      <th>4</th>\n",
       "      <td>sj</td>\n",
       "      <td>1990</td>\n",
       "      <td>22</td>\n",
       "      <td>-4.488446</td>\n",
       "      <td>0.513734</td>\n",
       "      <td>-0.522379</td>\n",
       "      <td>0.279017</td>\n",
       "      <td>0.575527</td>\n",
       "      <td>-0.257430</td>\n",
       "      <td>0.392577</td>\n",
       "      <td>...</td>\n",
       "      <td>0.012881</td>\n",
       "      <td>-0.026525</td>\n",
       "      <td>0.004184</td>\n",
       "      <td>-0.022489</td>\n",
       "      <td>0.038986</td>\n",
       "      <td>-0.007643</td>\n",
       "      <td>-0.024453</td>\n",
       "      <td>-0.052456</td>\n",
       "      <td>-0.020929</td>\n",
       "      <td>-0.006024</td>\n",
       "    </tr>\n",
       "  </tbody>\n",
       "</table>\n",
       "<p>5 rows × 78 columns</p>\n",
       "</div>"
      ],
      "text/plain": [
       "  city  year weekofyear      com1      com2      com3      com4      com5  \\\n",
       "0   sj  1990         18 -4.191085  0.705030 -0.434319  0.021242  0.186170   \n",
       "1   sj  1990         19 -4.039240  0.555688 -0.440043  0.151095  0.274502   \n",
       "2   sj  1990         20 -4.199797  0.545794 -0.566129  0.079934  0.371858   \n",
       "3   sj  1990         21 -4.302306  0.556289 -0.498080  0.171292  0.454469   \n",
       "4   sj  1990         22 -4.488446  0.513734 -0.522379  0.279017  0.575527   \n",
       "\n",
       "       com6      com7    ...        com66     com67     com68     com69  \\\n",
       "0  0.171262 -0.559197    ...    -0.017178  0.011100  0.062521 -0.015646   \n",
       "1  0.101275 -0.337240    ...     0.026754  0.011039  0.037746 -0.041645   \n",
       "2  0.025634 -0.087709    ...    -0.025915 -0.048276  0.020435  0.011677   \n",
       "3 -0.005096  0.146922    ...    -0.023314  0.055135  0.016587  0.019169   \n",
       "4 -0.257430  0.392577    ...     0.012881 -0.026525  0.004184 -0.022489   \n",
       "\n",
       "      com70     com71     com72     com73     com74     com75  \n",
       "0 -0.029909 -0.007733 -0.000768  0.007111 -0.000409 -0.020582  \n",
       "1 -0.047391  0.001129  0.012737  0.023060 -0.019162 -0.016492  \n",
       "2 -0.033204  0.024580  0.005577 -0.018649  0.015556  0.032187  \n",
       "3 -0.035454 -0.006036 -0.038947 -0.032721 -0.001041  0.022893  \n",
       "4  0.038986 -0.007643 -0.024453 -0.052456 -0.020929 -0.006024  \n",
       "\n",
       "[5 rows x 78 columns]"
      ]
     },
     "execution_count": 27,
     "metadata": {},
     "output_type": "execute_result"
    }
   ],
   "source": [
    "data.head()"
   ]
  },
  {
   "cell_type": "code",
   "execution_count": 29,
   "metadata": {},
   "outputs": [
    {
     "data": {
      "text/html": [
       "<div>\n",
       "<style scoped>\n",
       "    .dataframe tbody tr th:only-of-type {\n",
       "        vertical-align: middle;\n",
       "    }\n",
       "\n",
       "    .dataframe tbody tr th {\n",
       "        vertical-align: top;\n",
       "    }\n",
       "\n",
       "    .dataframe thead th {\n",
       "        text-align: right;\n",
       "    }\n",
       "</style>\n",
       "<table border=\"1\" class=\"dataframe\">\n",
       "  <thead>\n",
       "    <tr style=\"text-align: right;\">\n",
       "      <th></th>\n",
       "      <th>city</th>\n",
       "      <th>year</th>\n",
       "      <th>weekofyear</th>\n",
       "      <th>com1</th>\n",
       "      <th>com2</th>\n",
       "      <th>com3</th>\n",
       "      <th>com4</th>\n",
       "      <th>com5</th>\n",
       "      <th>com6</th>\n",
       "      <th>com7</th>\n",
       "      <th>...</th>\n",
       "      <th>com66</th>\n",
       "      <th>com67</th>\n",
       "      <th>com68</th>\n",
       "      <th>com69</th>\n",
       "      <th>com70</th>\n",
       "      <th>com71</th>\n",
       "      <th>com72</th>\n",
       "      <th>com73</th>\n",
       "      <th>com74</th>\n",
       "      <th>com75</th>\n",
       "    </tr>\n",
       "  </thead>\n",
       "  <tbody>\n",
       "  </tbody>\n",
       "</table>\n",
       "<p>0 rows × 78 columns</p>\n",
       "</div>"
      ],
      "text/plain": [
       "Empty DataFrame\n",
       "Columns: [city, year, weekofyear, com1, com2, com3, com4, com5, com6, com7, com8, com9, com10, com11, com12, com13, com14, com15, com16, com17, com18, com19, com20, com21, com22, com23, com24, com25, com26, com27, com28, com29, com30, com31, com32, com33, com34, com35, com36, com37, com38, com39, com40, com41, com42, com43, com44, com45, com46, com47, com48, com49, com50, com51, com52, com53, com54, com55, com56, com57, com58, com59, com60, com61, com62, com63, com64, com65, com66, com67, com68, com69, com70, com71, com72, com73, com74, com75]\n",
       "Index: []\n",
       "\n",
       "[0 rows x 78 columns]"
      ]
     },
     "execution_count": 29,
     "metadata": {},
     "output_type": "execute_result"
    }
   ],
   "source": [
    "data.loc[(data['city'] == 'sj') & (data['year'] == 2008) &  (data['weekofyear'] == 18)]"
   ]
  },
  {
   "cell_type": "code",
   "execution_count": 31,
   "metadata": {},
   "outputs": [
    {
     "data": {
      "text/plain": [
       "[1990, 1991, 1992, 1993, 1994, ..., 2006, 2007, 2008, 2009, 2010]\n",
       "Length: 21\n",
       "Categories (21, int64): [1990, 1991, 1992, 1993, ..., 2007, 2008, 2009, 2010]"
      ]
     },
     "execution_count": 31,
     "metadata": {},
     "output_type": "execute_result"
    }
   ],
   "source": [
    "data.year.unique()"
   ]
  },
  {
   "cell_type": "code",
   "execution_count": 65,
   "metadata": {},
   "outputs": [
    {
     "name": "stderr",
     "output_type": "stream",
     "text": [
      "C:\\Users\\Martins\\Anaconda3\\lib\\site-packages\\seaborn\\axisgrid.py:1847: UserWarning: JointGrid annotation is deprecated and will be removed in a future release.\n",
      "  warnings.warn(UserWarning(msg))\n"
     ]
    },
    {
     "data": {
      "image/png": "[encoded data removed]",
      "text/plain": [
       "<Figure size 432x432 with 3 Axes>"
      ]
     },
     "metadata": {
      "needs_background": "light"
     },
     "output_type": "display_data"
    }
   ],
   "source": [
    "# pd.DataFrame({'actual': y_test, 'predicted': predictions})\n",
    "import scipy.stats as stats\n",
    "sns.jointplot(np.log1p(y_test), np.log1p(predictions), kind='reg', joint_kws={'line_kws':{'color':'green'}}).annotate(stats.pearsonr)\n",
    "plt.xlabel('Log of actual number of cases')\n",
    "plt.ylabel('Log of predicted number of cases')\n",
    "plt.xlim([-0.5, 6]); plt.ylim([0, 6])\n",
    "plt.savefig(\"../data/output/predicted_observed.png\")"
   ]
  },
  {
   "cell_type": "code",
   "execution_count": null,
   "metadata": {},
   "outputs": [],
   "source": []
  }
 ],
 "metadata": {
  "kernelspec": {
   "display_name": "Python-3",
   "language": "python",
   "name": "python3"
  },
  "language_info": {
   "codemirror_mode": {
    "name": "ipython",
    "version": 3
   },
   "file_extension": ".py",
   "mimetype": "text/x-python",
   "name": "python",
   "nbconvert_exporter": "python",
   "pygments_lexer": "ipython3",
   "version": "3.6.7"
  }
 },
 "nbformat": 4,
 "nbformat_minor": 2
}
